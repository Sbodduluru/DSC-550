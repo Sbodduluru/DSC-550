{
 "cells": [
  {
   "cell_type": "markdown",
   "metadata": {},
   "source": [
    "### DSC - 550\n",
    "\n",
    "#### 1. Neural Network Classifier with Scikit\n",
    "\n",
    "Using the multi-label classifier dataset (categorized-comments.jsonl in the reddit folder), fit a neural network classifier using scikit-learn. Report the accuracy, precision, recall, F1-score, and confusion matrix."
   ]
  },
  {
   "cell_type": "code",
   "execution_count": 1,
   "metadata": {},
   "outputs": [
    {
     "data": {
      "text/html": [
       "<div>\n",
       "<style scoped>\n",
       "    .dataframe tbody tr th:only-of-type {\n",
       "        vertical-align: middle;\n",
       "    }\n",
       "\n",
       "    .dataframe tbody tr th {\n",
       "        vertical-align: top;\n",
       "    }\n",
       "\n",
       "    .dataframe thead th {\n",
       "        text-align: right;\n",
       "    }\n",
       "</style>\n",
       "<table border=\"1\" class=\"dataframe\">\n",
       "  <thead>\n",
       "    <tr style=\"text-align: right;\">\n",
       "      <th></th>\n",
       "      <th>cat</th>\n",
       "      <th>txt</th>\n",
       "    </tr>\n",
       "  </thead>\n",
       "  <tbody>\n",
       "    <tr>\n",
       "      <th>0</th>\n",
       "      <td>sports</td>\n",
       "      <td>Barely better than Gabbert? He was significant...</td>\n",
       "    </tr>\n",
       "    <tr>\n",
       "      <th>1</th>\n",
       "      <td>sports</td>\n",
       "      <td>Fuck the ducks and the Angels! But welcome to ...</td>\n",
       "    </tr>\n",
       "    <tr>\n",
       "      <th>2</th>\n",
       "      <td>sports</td>\n",
       "      <td>Should have drafted more WRs.\\n\\n- Matt Millen...</td>\n",
       "    </tr>\n",
       "    <tr>\n",
       "      <th>3</th>\n",
       "      <td>sports</td>\n",
       "      <td>[Done](https://i.imgur.com/2YZ90pm.jpg)</td>\n",
       "    </tr>\n",
       "    <tr>\n",
       "      <th>4</th>\n",
       "      <td>sports</td>\n",
       "      <td>No!! NOO!!!!!</td>\n",
       "    </tr>\n",
       "  </tbody>\n",
       "</table>\n",
       "</div>"
      ],
      "text/plain": [
       "      cat                                                txt\n",
       "0  sports  Barely better than Gabbert? He was significant...\n",
       "1  sports  Fuck the ducks and the Angels! But welcome to ...\n",
       "2  sports  Should have drafted more WRs.\\n\\n- Matt Millen...\n",
       "3  sports            [Done](https://i.imgur.com/2YZ90pm.jpg)\n",
       "4  sports                                      No!! NOO!!!!!"
      ]
     },
     "execution_count": 1,
     "metadata": {},
     "output_type": "execute_result"
    }
   ],
   "source": [
    "import pandas as pd\n",
    "\n",
    "# load the data\n",
    "df = pd.read_json('categorized-comments/categorized-comments.jsonl', lines=True, encoding='utf-8')\n",
    "df.head()"
   ]
  },
  {
   "cell_type": "code",
   "execution_count": 2,
   "metadata": {},
   "outputs": [],
   "source": [
    "# import packages\n",
    "from sklearn.model_selection import train_test_split\n",
    "\n",
    "# take sample from data frame\n",
    "df = df.sample(n=10000)\n",
    "\n",
    "data_model_X = df['txt']\n",
    "\n",
    "# create a whole target dataset that can be used for train and validation data splitting\n",
    "data_model_y = df['cat']\n",
    "\n",
    "\n",
    "# separate data into training and validation and check the details of the datasets\n",
    "# split the data\n",
    "X_train, X_val, y_train, y_val = train_test_split(data_model_X, data_model_y, test_size =0.2, random_state=11)\n"
   ]
  },
  {
   "cell_type": "code",
   "execution_count": 3,
   "metadata": {},
   "outputs": [
    {
     "name": "stdout",
     "output_type": "stream",
     "text": [
      "['video_games' 'sports' 'science_and_technology']\n"
     ]
    }
   ],
   "source": [
    "# find unique values in 'cat' column\n",
    "print (df['cat'].unique())"
   ]
  },
  {
   "cell_type": "code",
   "execution_count": 4,
   "metadata": {},
   "outputs": [],
   "source": [
    "# import packages\n",
    "from sklearn.model_selection import train_test_split\n",
    "\n",
    "#classifying the predictors and target variables as X and Y\n",
    "data_model_X = df['txt']\n",
    "data_model_y = df['cat']\n",
    "\n",
    "# split the data\n",
    "X_train, X_test, y_train, y_test = train_test_split(data_model_X, data_model_y, test_size =0.2, random_state=11)\n"
   ]
  },
  {
   "cell_type": "code",
   "execution_count": 5,
   "metadata": {},
   "outputs": [
    {
     "name": "stderr",
     "output_type": "stream",
     "text": [
      "Using TensorFlow backend.\n"
     ]
    },
    {
     "name": "stdout",
     "output_type": "stream",
     "text": [
      "[[1227   16  207]\n",
      " [  54   35    9]\n",
      " [ 188    4  260]]\n"
     ]
    }
   ],
   "source": [
    "# import packages\n",
    "from sklearn.metrics import classification_report,confusion_matrix\n",
    "%matplotlib inline\n",
    "import matplotlib.pyplot as plt\n",
    "from sklearn.pipeline import Pipeline\n",
    "from sklearn.neural_network import MLPClassifier\n",
    "from transformer import TextNormalizer\n",
    "from sklearn.feature_extraction.text import TfidfVectorizer\n",
    "\n",
    "# Instantiate the neural network classifier model \n",
    "Classifier_new = Pipeline([    \n",
    "    ('tfidf', TfidfVectorizer()),\n",
    "    ('ann', MLPClassifier(hidden_layer_sizes=(30,30,30), verbose=False))\n",
    "    ])\n",
    "\n",
    "# fit classifier\n",
    "Classifier_new.fit(X_train,y_train)\n",
    "\n",
    "# make predictions\n",
    "predictions = Classifier_new.predict(X_test)\n",
    "\n",
    "labels = ['video_games', 'science_and_technology', 'sports']\n",
    "\n",
    "# create confusion matrix\n",
    "cm = confusion_matrix(y_test,predictions, labels=labels)\n",
    "\n",
    "# print confusion matrix\n",
    "print(cm)\n"
   ]
  },
  {
   "cell_type": "code",
   "execution_count": 6,
   "metadata": {},
   "outputs": [
    {
     "name": "stdout",
     "output_type": "stream",
     "text": [
      "Accuracy of MLPClassifier :  0.761\n"
     ]
    }
   ],
   "source": [
    "# define accuracy function\n",
    "def accuracy(confusion_matrix):\n",
    "    diagonal_sum = confusion_matrix.trace()\n",
    "    sum_of_all_elements = confusion_matrix.sum()\n",
    "    return diagonal_sum / sum_of_all_elements\n",
    "\n",
    "#Printing the accuracy\n",
    "print(\"Accuracy of MLPClassifier : \", accuracy(cm))"
   ]
  },
  {
   "cell_type": "code",
   "execution_count": 7,
   "metadata": {},
   "outputs": [
    {
     "name": "stdout",
     "output_type": "stream",
     "text": [
      "                        precision    recall  f1-score   support\n",
      "\n",
      "science_and_technology       0.64      0.36      0.46        98\n",
      "                sports       0.55      0.58      0.56       452\n",
      "           video_games       0.84      0.85      0.84      1450\n",
      "\n",
      "              accuracy                           0.76      2000\n",
      "             macro avg       0.67      0.59      0.62      2000\n",
      "          weighted avg       0.76      0.76      0.76      2000\n",
      "\n"
     ]
    }
   ],
   "source": [
    "# print precision, recall, F1-score\n",
    "print(classification_report(y_test,predictions))"
   ]
  },
  {
   "cell_type": "markdown",
   "metadata": {},
   "source": [
    "#### 2. Neural Network Classifier with Keras\n",
    "\n",
    "Using the multi-label classifier dataset  (categorized-comments.jsonl in the reddit folder), fit a neural network classifier using Keras. Report the accuracy, precision, recall, F1-score, and confusion matrix."
   ]
  },
  {
   "cell_type": "code",
   "execution_count": 11,
   "metadata": {},
   "outputs": [],
   "source": [
    "# import packages\n",
    "from keras.layers import Dense\n",
    "from keras.models import Sequential\n",
    "\n",
    "N_FEATURES = 15917\n",
    "N_CLASSES = 3\n",
    "\n",
    "def build_network():\n",
    "    \"\"\"\n",
    "    Create a function that returns a compiled neural network\n",
    "    \"\"\"\n",
    "    nn = Sequential()\n",
    "    nn.add(Dense(30, activation='relu', input_shape=(N_FEATURES,)))\n",
    "    nn.add(Dense(30, activation='relu'))\n",
    "    nn.add(Dense(N_CLASSES, activation='softmax'))\n",
    "    nn.compile(\n",
    "    loss='categorical_crossentropy',\n",
    "    optimizer='adam',\n",
    "    metrics=['accuracy']\n",
    "    )\n",
    "    return nn\n"
   ]
  },
  {
   "cell_type": "code",
   "execution_count": 12,
   "metadata": {},
   "outputs": [
    {
     "name": "stdout",
     "output_type": "stream",
     "text": [
      "WARNING:tensorflow:From c:\\programdata\\anaconda3\\envs\\venv3.6\\lib\\site-packages\\keras\\backend\\tensorflow_backend.py:422: The name tf.global_variables is deprecated. Please use tf.compat.v1.global_variables instead.\n",
      "\n",
      "Epoch 1/50\n",
      "8000/8000 [==============================] - 1s 184us/step - loss: 0.8313 - accuracy: 0.6985\n",
      "Epoch 2/50\n",
      "8000/8000 [==============================] - 1s 99us/step - loss: 0.5389 - accuracy: 0.7925\n",
      "Epoch 3/50\n",
      "8000/8000 [==============================] - 1s 101us/step - loss: 0.3401 - accuracy: 0.8724\n",
      "Epoch 4/50\n",
      "8000/8000 [==============================] - 1s 100us/step - loss: 0.2181 - accuracy: 0.9258\n",
      "Epoch 5/50\n",
      "8000/8000 [==============================] - 1s 102us/step - loss: 0.1501 - accuracy: 0.9520\n",
      "Epoch 6/50\n",
      "8000/8000 [==============================] - 1s 101us/step - loss: 0.1118 - accuracy: 0.9647\n",
      "Epoch 7/50\n",
      "8000/8000 [==============================] - 1s 99us/step - loss: 0.0896 - accuracy: 0.9711\n",
      "Epoch 8/50\n",
      "8000/8000 [==============================] - 1s 99us/step - loss: 0.0796 - accuracy: 0.9751\n",
      "Epoch 9/50\n",
      "8000/8000 [==============================] - 1s 101us/step - loss: 0.0687 - accuracy: 0.9776\n",
      "Epoch 10/50\n",
      "8000/8000 [==============================] - 1s 99us/step - loss: 0.0615 - accuracy: 0.9806\n",
      "Epoch 11/50\n",
      "8000/8000 [==============================] - 1s 98us/step - loss: 0.0572 - accuracy: 0.9808\n",
      "Epoch 12/50\n",
      "8000/8000 [==============================] - 1s 98us/step - loss: 0.0533 - accuracy: 0.9819\n",
      "Epoch 13/50\n",
      "8000/8000 [==============================] - 1s 99us/step - loss: 0.0514 - accuracy: 0.9826\n",
      "Epoch 14/50\n",
      "8000/8000 [==============================] - 1s 99us/step - loss: 0.0504 - accuracy: 0.9816\n",
      "Epoch 15/50\n",
      "8000/8000 [==============================] - 1s 104us/step - loss: 0.0482 - accuracy: 0.9831\n",
      "Epoch 16/50\n",
      "8000/8000 [==============================] - 1s 103us/step - loss: 0.0474 - accuracy: 0.98340s - loss:\n",
      "Epoch 17/50\n",
      "8000/8000 [==============================] - 1s 98us/step - loss: 0.0463 - accuracy: 0.9834\n",
      "Epoch 18/50\n",
      "8000/8000 [==============================] - 1s 100us/step - loss: 0.0450 - accuracy: 0.9833\n",
      "Epoch 19/50\n",
      "8000/8000 [==============================] - 1s 99us/step - loss: 0.0442 - accuracy: 0.9834\n",
      "Epoch 20/50\n",
      "8000/8000 [==============================] - 1s 99us/step - loss: 0.0439 - accuracy: 0.9836\n",
      "Epoch 21/50\n",
      "8000/8000 [==============================] - 1s 99us/step - loss: 0.0442 - accuracy: 0.9835\n",
      "Epoch 22/50\n",
      "8000/8000 [==============================] - 1s 98us/step - loss: 0.0440 - accuracy: 0.9839\n",
      "Epoch 23/50\n",
      "8000/8000 [==============================] - 1s 102us/step - loss: 0.0444 - accuracy: 0.9833\n",
      "Epoch 24/50\n",
      "8000/8000 [==============================] - 1s 100us/step - loss: 0.0423 - accuracy: 0.9844\n",
      "Epoch 25/50\n",
      "8000/8000 [==============================] - 1s 100us/step - loss: 0.0427 - accuracy: 0.9843\n",
      "Epoch 26/50\n",
      "8000/8000 [==============================] - 1s 101us/step - loss: 0.0422 - accuracy: 0.9837\n",
      "Epoch 27/50\n",
      "8000/8000 [==============================] - 1s 99us/step - loss: 0.0421 - accuracy: 0.9846\n",
      "Epoch 28/50\n",
      "8000/8000 [==============================] - 1s 99us/step - loss: 0.0418 - accuracy: 0.9843\n",
      "Epoch 29/50\n",
      "8000/8000 [==============================] - 1s 98us/step - loss: 0.0421 - accuracy: 0.9841\n",
      "Epoch 30/50\n",
      "8000/8000 [==============================] - 1s 98us/step - loss: 0.0409 - accuracy: 0.9841\n",
      "Epoch 31/50\n",
      "8000/8000 [==============================] - 1s 100us/step - loss: 0.0407 - accuracy: 0.9845\n",
      "Epoch 32/50\n",
      "8000/8000 [==============================] - 1s 100us/step - loss: 0.0423 - accuracy: 0.9836\n",
      "Epoch 33/50\n",
      "8000/8000 [==============================] - 1s 100us/step - loss: 0.0406 - accuracy: 0.9840\n",
      "Epoch 34/50\n",
      "8000/8000 [==============================] - 1s 100us/step - loss: 0.0405 - accuracy: 0.9844\n",
      "Epoch 35/50\n",
      "8000/8000 [==============================] - 1s 100us/step - loss: 0.0412 - accuracy: 0.9845\n",
      "Epoch 36/50\n",
      "8000/8000 [==============================] - 1s 99us/step - loss: 0.0403 - accuracy: 0.9844\n",
      "Epoch 37/50\n",
      "8000/8000 [==============================] - 1s 102us/step - loss: 0.0400 - accuracy: 0.9846\n",
      "Epoch 38/50\n",
      "8000/8000 [==============================] - 1s 102us/step - loss: 0.0410 - accuracy: 0.9839\n",
      "Epoch 39/50\n",
      "8000/8000 [==============================] - 1s 100us/step - loss: 0.0397 - accuracy: 0.9843\n",
      "Epoch 40/50\n",
      "8000/8000 [==============================] - 1s 102us/step - loss: 0.0403 - accuracy: 0.9843\n",
      "Epoch 41/50\n",
      "8000/8000 [==============================] - 1s 101us/step - loss: 0.0397 - accuracy: 0.9844\n",
      "Epoch 42/50\n",
      "8000/8000 [==============================] - 1s 100us/step - loss: 0.0398 - accuracy: 0.9846\n",
      "Epoch 43/50\n",
      "8000/8000 [==============================] - 1s 104us/step - loss: 0.0399 - accuracy: 0.9843\n",
      "Epoch 44/50\n",
      "8000/8000 [==============================] - 1s 100us/step - loss: 0.0399 - accuracy: 0.9847\n",
      "Epoch 45/50\n",
      "8000/8000 [==============================] - 1s 101us/step - loss: 0.0399 - accuracy: 0.9841\n",
      "Epoch 46/50\n",
      "8000/8000 [==============================] - 1s 101us/step - loss: 0.0397 - accuracy: 0.9847\n",
      "Epoch 47/50\n",
      "8000/8000 [==============================] - 1s 102us/step - loss: 0.0395 - accuracy: 0.9845\n",
      "Epoch 48/50\n",
      "8000/8000 [==============================] - 1s 102us/step - loss: 0.0396 - accuracy: 0.9843\n",
      "Epoch 49/50\n",
      "8000/8000 [==============================] - 1s 103us/step - loss: 0.0393 - accuracy: 0.9849\n",
      "Epoch 50/50\n",
      "8000/8000 [==============================] - 1s 103us/step - loss: 0.0394 - accuracy: 0.9845\n",
      "confusion matrix: [[1215   24  211]\n",
      " [  50   33   15]\n",
      " [ 209    7  236]]\n"
     ]
    }
   ],
   "source": [
    "# import packages\n",
    "from sklearn.pipeline import Pipeline\n",
    "from transformer import TextNormalizer\n",
    "from keras.wrappers.scikit_learn import KerasClassifier\n",
    "from sklearn.feature_extraction.text import TfidfVectorizer\n",
    "from sklearn.feature_extraction.text import CountVectorizer\n",
    "from sklearn.metrics import classification_report,confusion_matrix\n",
    "%matplotlib inline\n",
    "import matplotlib.pyplot as plt\n",
    "\n",
    "# Instantiate the neural network classifier model \n",
    "Classifier_keras = Pipeline([\n",
    "    ('norm', CountVectorizer()),\n",
    "    ('nn', KerasClassifier(build_fn=build_network, epochs=50,batch_size=128))\n",
    "    ])\n",
    "\n",
    "# fit classifier\n",
    "Classifier_keras.fit(X_train,y_train)\n",
    "\n",
    "# make predictions\n",
    "predictions_keras = Classifier_keras.predict(X_test)\n",
    "\n",
    "labels = ['video_games', 'science_and_technology', 'sports']\n",
    "\n",
    "# create confusion matrix\n",
    "cm_keras = confusion_matrix(y_test,predictions_keras, labels=labels)\n",
    "\n",
    "# print confusion matrix\n",
    "print(\"confusion matrix:\", cm_keras)\n"
   ]
  },
  {
   "cell_type": "code",
   "execution_count": 13,
   "metadata": {},
   "outputs": [
    {
     "name": "stdout",
     "output_type": "stream",
     "text": [
      "Accuracy of KerasClassifier :  0.742\n"
     ]
    }
   ],
   "source": [
    "#Printing the accuracy\n",
    "print(\"Accuracy of KerasClassifier : \", accuracy(cm_keras))"
   ]
  },
  {
   "cell_type": "code",
   "execution_count": 14,
   "metadata": {},
   "outputs": [
    {
     "name": "stdout",
     "output_type": "stream",
     "text": [
      "                        precision    recall  f1-score   support\n",
      "\n",
      "science_and_technology       0.52      0.34      0.41        98\n",
      "                sports       0.51      0.52      0.52       452\n",
      "           video_games       0.82      0.84      0.83      1450\n",
      "\n",
      "              accuracy                           0.74      2000\n",
      "             macro avg       0.62      0.57      0.58      2000\n",
      "          weighted avg       0.74      0.74      0.74      2000\n",
      "\n"
     ]
    }
   ],
   "source": [
    "# print precision, recall, F1-score\n",
    "print(classification_report(y_test,predictions_keras))"
   ]
  },
  {
   "cell_type": "markdown",
   "metadata": {},
   "source": [
    "#### 3. Classifying Images\n",
    "\n",
    "classify MSINT images using a convolutional neural network. Report the accuracy of your results."
   ]
  },
  {
   "cell_type": "code",
   "execution_count": 15,
   "metadata": {},
   "outputs": [
    {
     "name": "stdout",
     "output_type": "stream",
     "text": [
      "WARNING:tensorflow:From c:\\programdata\\anaconda3\\envs\\venv3.6\\lib\\site-packages\\keras\\backend\\tensorflow_backend.py:4070: The name tf.nn.max_pool is deprecated. Please use tf.nn.max_pool2d instead.\n",
      "\n"
     ]
    },
    {
     "data": {
      "text/plain": [
       "<keras.callbacks.callbacks.History at 0x2a10ffcf320>"
      ]
     },
     "execution_count": 15,
     "metadata": {},
     "output_type": "execute_result"
    }
   ],
   "source": [
    "# import packages\n",
    "import numpy as np\n",
    "from keras.datasets import mnist\n",
    "from keras.models import Sequential\n",
    "from keras.layers import Dense, Dropout, Flatten\n",
    "from keras.layers.convolutional import Conv2D, MaxPooling2D\n",
    "from keras.utils import np_utils\n",
    "from keras import backend as K\n",
    "\n",
    "# Set that the color channel value will be first\n",
    "K.set_image_data_format(\"channels_first\")\n",
    "# Set seed\n",
    "np.random.seed(0)\n",
    "\n",
    "# Set image information\n",
    "channels = 1\n",
    "height = 28\n",
    "width = 28\n",
    "\n",
    "# Load data and target from MNIST data\n",
    "(data_train, target_train), (data_test, target_test) = mnist.load_data()\n",
    "\n",
    "# Reshape training image data into features\n",
    "data_train = data_train.reshape(data_train.shape[0], channels, height, width)\n",
    "\n",
    "# Reshape test image data into features\n",
    "data_test = data_test.reshape(data_test.shape[0], channels, height, width)\n",
    "\n",
    "# Rescale pixel intensity to between 0 and 1\n",
    "features_train = data_train / 255\n",
    "features_test = data_test / 255\n",
    "\n",
    "# One-hot encode target\n",
    "target_train = np_utils.to_categorical(target_train)\n",
    "target_test = np_utils.to_categorical(target_test)\n",
    "number_of_classes = target_test.shape[1]\n",
    "\n",
    "# Start neural network\n",
    "network = Sequential()\n",
    "\n",
    "# Add convolutional layer with 64 filters, a 5x5 window, and ReLU activation function\n",
    "network.add(Conv2D(filters=64,\n",
    "                   kernel_size=(5, 5),\n",
    "                   input_shape=(channels, width, height),\n",
    "                   activation='relu'))\n",
    "\n",
    "# Add max pooling layer with a 2x2 window\n",
    "network.add(MaxPooling2D(pool_size=(2, 2)))\n",
    "\n",
    "# Add dropout layer\n",
    "network.add(Dropout(0.5))\n",
    "\n",
    "# Add layer to flatten input\n",
    "network.add(Flatten())\n",
    "\n",
    "# # Add fully connected layer of 128 units with a ReLU activation function\n",
    "network.add(Dense(128, activation=\"relu\"))\n",
    "\n",
    "# Add dropout layer\n",
    "network.add(Dropout(0.5))\n",
    "\n",
    "# Add fully connected layer with a softmax activation function\n",
    "network.add(Dense(number_of_classes, activation=\"softmax\"))\n",
    "\n",
    "# Compile neural network\n",
    "network.compile(loss=\"categorical_crossentropy\", # Cross-entropy\n",
    "                optimizer=\"rmsprop\", # Root Mean Square Propagation\n",
    "                metrics=[\"accuracy\"]) # Accuracy performance metric\n",
    "\n",
    "# Train neural network\n",
    "network.fit(features_train, # Features\n",
    "            target_train, # Target\n",
    "            epochs=2, # Number of epochs\n",
    "            verbose=0, # Don't print description after each epoch\n",
    "            batch_size=1000, # Number of observations per batch\n",
    "            validation_data=(features_test, target_test)) # Data for evaluation\n",
    "\n"
   ]
  },
  {
   "cell_type": "code",
   "execution_count": 16,
   "metadata": {},
   "outputs": [
    {
     "name": "stdout",
     "output_type": "stream",
     "text": [
      "10000/10000 [==============================] - 1s 57us/step\n"
     ]
    },
    {
     "data": {
      "text/plain": [
       "[0.09184574899375439, 0.9714999794960022]"
      ]
     },
     "execution_count": 16,
     "metadata": {},
     "output_type": "execute_result"
    }
   ],
   "source": [
    "# evaluate model\n",
    "network.evaluate(features_test, target_test)"
   ]
  },
  {
   "cell_type": "markdown",
   "metadata": {},
   "source": [
    "Accuracy of convolutional neural network model is : 97 %"
   ]
  },
  {
   "cell_type": "code",
   "execution_count": null,
   "metadata": {},
   "outputs": [],
   "source": []
  }
 ],
 "metadata": {
  "kernelspec": {
   "display_name": "Python 3",
   "language": "python",
   "name": "python3"
  },
  "language_info": {
   "codemirror_mode": {
    "name": "ipython",
    "version": 3
   },
   "file_extension": ".py",
   "mimetype": "text/x-python",
   "name": "python",
   "nbconvert_exporter": "python",
   "pygments_lexer": "ipython3",
   "version": "3.6.10"
  }
 },
 "nbformat": 4,
 "nbformat_minor": 2
}
